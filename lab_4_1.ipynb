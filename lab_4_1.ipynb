{
 "cells": [
  {
   "cell_type": "markdown",
   "metadata": {},
   "source": [
    "#### Структури для роботи з великими обсягами даних в Python"
   ]
  },
  {
   "cell_type": "code",
   "execution_count": null,
   "metadata": {
    "ExecuteTime": {
     "end_time": "2024-05-18T11:37:55.532818Z",
     "start_time": "2024-05-18T11:37:51.810414Z"
    }
   },
   "outputs": [],
   "source": [
    "import pandas as pd\n",
    "import numpy as np\n",
    "import missingno as msno\n",
    "from tabulate import tabulate\n",
    "from datetime import time as dt_time\n",
    "import time as tm\n",
    "\n",
    "print(\"Setup complete\")\n",
    "\n",
    "file = \"household_power_consumption.csv\""
   ]
  },
  {
   "cell_type": "code",
   "execution_count": null,
   "metadata": {
    "ExecuteTime": {
     "end_time": "2024-05-18T11:38:24.739478Z",
     "start_time": "2024-05-18T11:38:06.407851Z"
    }
   },
   "outputs": [],
   "source": [
    "def print_head(data, n=5):\n",
    "    if isinstance(data, pd.DataFrame):\n",
    "        table_data = data.head(n).values.tolist()\n",
    "        headers = data.columns.tolist()\n",
    "        print(f\"Перші ${n} рядків DataFrame:\")\n",
    "        print(tabulate(table_data, headers=headers, tablefmt='pretty'))\n",
    "    elif isinstance(data, np.ndarray):\n",
    "        table_data = data[:n].tolist()\n",
    "        print(f\"\\nПерші ${n} рядків NumPy масиву:\")\n",
    "        print(tabulate(table_data, tablefmt='pretty'))\n",
    "    else:\n",
    "        print(\"Непідтримуваний тип даних. Підтримуються лише DataFrame або NumPy масив.\")\n",
    "\n",
    "def create_numpy_arr(file1):\n",
    "    data = np.genfromtxt(file1, delimiter=',')\n",
    "    data[:,2:8] = data[:,2:8].astype(np.float64)\n",
    "    return data\n",
    "\n",
    "def create_data_frame(file1):\n",
    "    dtype = {\n",
    "        'Global_active_power': float,\n",
    "        'Global_reactive_power': float,\n",
    "        'Voltage': float,\n",
    "        'Global_intensity': float,\n",
    "        'Sub_metering_1': float,\n",
    "        'Sub_metering_2': float,\n",
    "        'Sub_metering_3': float\n",
    "    }\n",
    "\n",
    "    na_values = ['?']\n",
    "    df1 = pd.read_csv(file1, dtype=dtype, na_values=na_values)\n",
    "\n",
    "    df1['Date'] = pd.to_datetime(df1['Date'], dayfirst=True)\n",
    "    df1['Time'] = pd.to_datetime(df1['Time'], format='%H:%M:%S').dt.time\n",
    "    df1 = df1.dropna().reset_index(drop=True)\n",
    "    #msno.matrix(df1)\n",
    "\n",
    "    return df1\n",
    "\n",
    "df = create_data_frame(file)\n",
    "np_arr = df.to_numpy()\n",
    "print_head(create_numpy_arr(file),10) # dirty np\n",
    "print_head(df,10) # clean df\n",
    "print_head(np_arr,10) # clean np"
   ]
  },
  {
   "cell_type": "markdown",
   "metadata": {},
   "source": [
    "1. Обрати всі домогосподарства, у яких загальна активна споживана потужність перевищує 5 кВт."
   ]
  },
  {
   "cell_type": "code",
   "execution_count": null,
   "metadata": {},
   "outputs": [],
   "source": [
    "def filter_by_power(df1):\n",
    "    filtered_df1 = df1[df1['Global_active_power'] > 5.0]\n",
    "    return filtered_df1\n",
    "\n",
    "def filter_by_power_np(np_arr1):\n",
    "    filtered_df1 = np_arr1[np_arr1[:, 2] > 5.0]\n",
    "    return filtered_df1\n",
    "\n",
    "print(\"\\nЗадача 1\")\n",
    "start_time = tm.time()\n",
    "filtered_df = filter_by_power(df)\n",
    "print_head(filtered_df)\n",
    "end_time = tm.time() - start_time\n",
    "print(f\"Час виконання:\\nPd: {end_time} сек\")\n",
    "\n",
    "start_time_np = tm.time()\n",
    "filtered_df_np = filter_by_power_np(np_arr)\n",
    "print_head(filtered_df_np)\n",
    "end_time_np = tm.time() - start_time_np\n",
    "print(f\"Час виконання:\\nNp:{end_time_np} сек\")"
   ]
  },
  {
   "cell_type": "markdown",
   "metadata": {},
   "source": [
    "##### 2. Обрати всі домогосподарства, у яких вольтаж перевищую 235 В."
   ]
  },
  {
   "cell_type": "code",
   "execution_count": null,
   "metadata": {
    "ExecuteTime": {
     "end_time": "2024-05-18T11:38:44.876960Z",
     "start_time": "2024-05-18T11:38:44.634496Z"
    }
   },
   "outputs": [],
   "source": [
    "# Задача 2\n",
    "def filter_by_voltage(df1):\n",
    "    filtered_df1 = df1[df1['Voltage'] > 235]\n",
    "    return filtered_df1\n",
    "\n",
    "# Задача 2\n",
    "def filter_by_voltage_np(np_arr1):\n",
    "    filtered_df1 = np_arr1[np_arr1[:, 4] > 235]\n",
    "    return filtered_df1\n",
    "\n",
    "\n",
    "print(\"\\nЗадача 2\")\n",
    "start_time = tm.time()\n",
    "filtered_df = filter_by_voltage(df)\n",
    "print_head(filtered_df)\n",
    "end_time = tm.time() - start_time\n",
    "print(f\"Час виконання:\\nPd: {end_time} сек\")\n",
    "\n",
    "start_time_np = tm.time()\n",
    "filtered_df_np = filter_by_voltage_np(np_arr)\n",
    "print_head(filtered_df_np)\n",
    "end_time_np = tm.time() - start_time_np\n",
    "print(f\"Час виконання:\\nNp:{end_time_np} сек\")\n"
   ]
  },
  {
   "cell_type": "markdown",
   "metadata": {},
   "source": [
    "##### 3. Обрати всі домогосподарства, у яких сила струму лежить в межах 19-20 А, для них виявити ті, у яких пральна машина та холодильних споживають більше, ніж бойлер та кондиціонер."
   ]
  },
  {
   "cell_type": "code",
   "execution_count": null,
   "metadata": {
    "ExecuteTime": {
     "end_time": "2024-05-18T11:38:59.069880Z",
     "start_time": "2024-05-18T11:38:58.860379Z"
    }
   },
   "outputs": [],
   "source": [
    "def filter_by_current_and_consumption(df1):\n",
    "    filtered_df1 = df1[(df1['Global_intensity'] >= 19) & (df1['Global_intensity'] <= 20)]\n",
    "    filtered_df1 = filtered_df1[(filtered_df1['Sub_metering_2'] > filtered_df1['Sub_metering_3'])] \n",
    "    return filtered_df1\n",
    "\n",
    "def filter_by_current_and_consumption_np(np_arr1):\n",
    "    filtered_df1 = np_arr1[(np_arr1[:, 5] >= 19) & (np_arr1[:, 5] <= 20)]\n",
    "    filtered_df1 = filtered_df1[(filtered_df1[:, 7] > filtered_df1[:, 8])]\n",
    "    return filtered_df1\n",
    "\n",
    "print(\"\\nЗадача 3\")\n",
    "start_time = tm.time()\n",
    "filtered_df = filter_by_current_and_consumption(df)\n",
    "print_head(filtered_df)\n",
    "end_time = tm.time() - start_time\n",
    "print(f\"Час виконання:\\nPd: {end_time} сек\")\n",
    "\n",
    "start_time_np = tm.time()\n",
    "filtered_df_np = filter_by_current_and_consumption_np(np_arr)\n",
    "print_head(filtered_df_np)\n",
    "end_time_np = tm.time() - start_time_np\n",
    "print(f\"Час виконання:\\nNp:{end_time_np} сек\")\n"
   ]
  },
  {
   "cell_type": "markdown",
   "metadata": {},
   "source": [
    "##### 4. Обрати випадковим чином 500000 домогосподарств (без повторів елементів вибірки), для них обчислити середні величини усіх 3-х груп споживання електричної енергії, а також"
   ]
  },
  {
   "cell_type": "code",
   "execution_count": null,
   "metadata": {
    "ExecuteTime": {
     "end_time": "2024-05-18T11:39:16.028605Z",
     "start_time": "2024-05-18T11:39:15.586518Z"
    }
   },
   "outputs": [],
   "source": [
    "# Задача 4\n",
    "def random_sample_average(df1, n=500000):\n",
    "    sampled_indices = np.random.choice(df1.index, n, replace=True)\n",
    "    sampled_df = df1.loc[sampled_indices]\n",
    "    averages1 = sampled_df[['Sub_metering_1', 'Sub_metering_2', 'Sub_metering_3']].mean()\n",
    "    return averages1\n",
    "\n",
    "# Задача 4\n",
    "def random_sample_average_np(np_arr1, n=500000):\n",
    "    sampled_np = np_arr1[np.random.choice(np_arr1.shape[0], n, replace=True), 6:9]\n",
    "    averages1 = np.mean(sampled_np, axis=0)\n",
    "    return averages1\n",
    "\n",
    "print(\"\\nЗадача 4\")\n",
    "start_time = tm.time()\n",
    "averages = random_sample_average(df, n=500000)\n",
    "print(averages)\n",
    "end_time = tm.time() - start_time\n",
    "print(f\"Час виконання:\\nPd: {end_time} сек\")\n",
    "\n",
    "start_time_np = tm.time()\n",
    "averages = random_sample_average_np(np_arr, n=500000)\n",
    "print(averages)\n",
    "end_time_np = tm.time() - start_time_np\n",
    "print(f\"Час виконання:\\nNp:{end_time_np} сек\")\n"
   ]
  },
  {
   "cell_type": "markdown",
   "metadata": {},
   "source": [
    "##### 5. Обрати ті домогосподарства, які після 18-00 споживають понад 6 кВт за хвилину в середньому, серед відібраних визначити ті, у яких основне споживання електроенергії у вказаний проміжок часу припадає на пральну машину, сушарку, холодильник та освітлення (група 2 є найбільшою), а потім обрати кожен третій результат із першої половини та кожен четвертий результат із другої половини."
   ]
  },
  {
   "cell_type": "code",
   "execution_count": null,
   "metadata": {
    "ExecuteTime": {
     "end_time": "2024-05-18T11:39:37.634939Z",
     "start_time": "2024-05-18T11:39:37.389719Z"
    }
   },
   "outputs": [],
   "source": [
    "# Задача 5\n",
    "def complex_filter(df1):\n",
    "    filtered_df1 = df1[(df1['Time'] > pd.to_datetime('18:00:00').time()) & (df1['Global_active_power'] > 6)\n",
    "                       & (df1['Sub_metering_2'].gt(df1['Sub_metering_1'], df1['Sub_metering_3']))]\n",
    "\n",
    "    fh = filtered_df1.iloc[:len(filtered_df1) // 2]\n",
    "    sh = filtered_df1.iloc[len(filtered_df1) // 2:]\n",
    "    result = pd.concat([fh.iloc[2::3], sh.iloc[3::4]])\n",
    "\n",
    "    return result\n",
    "\n",
    "def complex_filter_np(np_arr1):\n",
    "        # Імітуймо умовний фільтр для numpy array\n",
    "    condition = (np_arr1[:, 1].astype('O').astype(dt_time) >= dt_time(18, 0, 0)) & \\\n",
    "                (np_arr1[:, 2] > 6) & \\\n",
    "                (np_arr1[:, 7] > np_arr1[:, 6]) & \\\n",
    "                (np_arr1[:, 7] > np_arr1[:, 8])\n",
    "    \n",
    "    filtered_array = np_arr1[condition]\n",
    "\n",
    "    fh = filtered_array[:len(filtered_array) // 2]\n",
    "    sh = filtered_array[len(filtered_array) // 2:]\n",
    "    result = np.concatenate([fh[2::3], sh[3::4]])\n",
    "    return result\n",
    "\n",
    "print(\"\\nЗадача 5:\")\n",
    "start_time = tm.time()\n",
    "filtered_df = complex_filter(df)\n",
    "print_head(filtered_df)\n",
    "end_time = tm.time() - start_time\n",
    "print(f\"Час виконання:\\nPd: {end_time} сек\")\n",
    "\n",
    "start_time_np = tm.time()\n",
    "filtered_np = complex_filter_np(np_arr)\n",
    "print_head(filtered_np)\n",
    "end_time_np = tm.time() - start_time_np\n",
    "print(f\"Час виконання:\\nNp:{end_time_np} сек\")\n"
   ]
  },
  {
   "cell_type": "code",
   "execution_count": null,
   "metadata": {},
   "outputs": [],
   "source": []
  }
 ],
 "metadata": {
  "kernelspec": {
   "display_name": "Python 3",
   "language": "python",
   "name": "python3"
  },
  "language_info": {
   "codemirror_mode": {
    "name": "ipython",
    "version": 3
   },
   "file_extension": ".py",
   "mimetype": "text/x-python",
   "name": "python",
   "nbconvert_exporter": "python",
   "pygments_lexer": "ipython3",
   "version": "3.11.0"
  }
 },
 "nbformat": 4,
 "nbformat_minor": 2
}
