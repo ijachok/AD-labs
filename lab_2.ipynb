{
 "cells": [
  {
   "cell_type": "markdown",
   "id": "8cdc297033f38760",
   "metadata": {},
   "source": [
    "#### Імпортуємо всі бібліотеки"
   ]
  },
  {
   "cell_type": "code",
   "execution_count": 2,
   "id": "initial_id",
   "metadata": {
    "collapsed": true
   },
   "outputs": [
    {
     "name": "stdout",
     "output_type": "stream",
     "text": [
      "Setup complete!\n"
     ]
    }
   ],
   "source": [
    "import datetime\n",
    "import os\n",
    "import urllib\n",
    "import urllib.request\n",
    "import matplotlib.pyplot as plt\n",
    "import pandas as pd\n",
    "import glob\n",
    "import os\n",
    "\n",
    "print(\"Setup complete!\")"
   ]
  },
  {
   "cell_type": "code",
   "execution_count": 9,
   "id": "d78d0591eb65a467",
   "metadata": {
    "collapsed": false
   },
   "outputs": [
    {
     "name": "stdout",
     "output_type": "stream",
     "text": [
      "Folder 'download' was successfully created or already exists.\n"
     ]
    }
   ],
   "source": [
    "folder_path = 'download'\n",
    "if not os.path.exists(folder_path):\n",
    "    os.makedirs(folder_path, exist_ok=True)\n",
    "print(f\"Folder '{folder_path}' was successfully created or already exists.\")"
   ]
  },
  {
   "cell_type": "markdown",
   "id": "ec892ee5a3ca9128",
   "metadata": {
    "collapsed": false
   },
   "source": [
    "#### Функція для завантаження даних"
   ]
  },
  {
   "cell_type": "code",
   "execution_count": 10,
   "id": "c54eeeab94990bcc",
   "metadata": {
    "collapsed": false
   },
   "outputs": [],
   "source": [
    "def download_data(province_id, year1=1981, year2=2024):\n",
    "    url = f\"https://www.star.nesdis.noaa.gov/smcd/emb/vci/VH/get_TS_admin.php?country=UKR&provinceID={province_id}&year1={year1}&year2={year2}&type=Mean\"\n",
    "    response = urllib.request.urlopen(url)\n",
    "    \n",
    "    if response.status == 200:  \n",
    "        current_datetime = datetime.datetime.now().strftime('%Y-%m-%d_%H-%M')\n",
    "        filename = f'vhi_id__{province_id}__{current_datetime}.csv'\n",
    "        with open(f'download/{filename}', 'wb') as out: \n",
    "            out.write(response.read())\n",
    "        print(f\"VHI is downloaded for province ID {province_id} into {filename}\")\n",
    "    else:\n",
    "        print(f\"Failed to download data for province ID {province_id}. HTTP status code: {response.status}\")"
   ]
  },
  {
   "cell_type": "markdown",
   "id": "f5256dd674aa6095",
   "metadata": {
    "collapsed": false
   },
   "source": [
    "#### Завантаження тестових структуровних даних за номером області"
   ]
  },
  {
   "cell_type": "code",
   "execution_count": 11,
   "id": "3f6bcfb87ad6ba55",
   "metadata": {
    "collapsed": false
   },
   "outputs": [
    {
     "name": "stdout",
     "output_type": "stream",
     "text": [
      "VHI is downloaded for province ID 1 into vhi_id__1__2024-06-18_20-08.csv\n",
      "VHI is downloaded for province ID 2 into vhi_id__2__2024-06-18_20-08.csv\n",
      "VHI is downloaded for province ID 3 into vhi_id__3__2024-06-18_20-09.csv\n",
      "VHI is downloaded for province ID 4 into vhi_id__4__2024-06-18_20-09.csv\n",
      "VHI is downloaded for province ID 5 into vhi_id__5__2024-06-18_20-09.csv\n",
      "VHI is downloaded for province ID 6 into vhi_id__6__2024-06-18_20-09.csv\n",
      "VHI is downloaded for province ID 7 into vhi_id__7__2024-06-18_20-09.csv\n",
      "VHI is downloaded for province ID 8 into vhi_id__8__2024-06-18_20-09.csv\n",
      "VHI is downloaded for province ID 9 into vhi_id__9__2024-06-18_20-09.csv\n",
      "VHI is downloaded for province ID 10 into vhi_id__10__2024-06-18_20-09.csv\n",
      "VHI is downloaded for province ID 11 into vhi_id__11__2024-06-18_20-09.csv\n",
      "VHI is downloaded for province ID 12 into vhi_id__12__2024-06-18_20-09.csv\n",
      "VHI is downloaded for province ID 13 into vhi_id__13__2024-06-18_20-09.csv\n",
      "VHI is downloaded for province ID 14 into vhi_id__14__2024-06-18_20-09.csv\n",
      "VHI is downloaded for province ID 15 into vhi_id__15__2024-06-18_20-09.csv\n",
      "VHI is downloaded for province ID 16 into vhi_id__16__2024-06-18_20-09.csv\n",
      "VHI is downloaded for province ID 17 into vhi_id__17__2024-06-18_20-09.csv\n",
      "VHI is downloaded for province ID 18 into vhi_id__18__2024-06-18_20-09.csv\n",
      "VHI is downloaded for province ID 19 into vhi_id__19__2024-06-18_20-10.csv\n",
      "VHI is downloaded for province ID 20 into vhi_id__20__2024-06-18_20-10.csv\n",
      "VHI is downloaded for province ID 21 into vhi_id__21__2024-06-18_20-10.csv\n",
      "VHI is downloaded for province ID 22 into vhi_id__22__2024-06-18_20-10.csv\n",
      "VHI is downloaded for province ID 23 into vhi_id__23__2024-06-18_20-10.csv\n",
      "VHI is downloaded for province ID 24 into vhi_id__24__2024-06-18_20-10.csv\n",
      "VHI is downloaded for province ID 25 into vhi_id__25__2024-06-18_20-10.csv\n",
      "VHI is downloaded for province ID 26 into vhi_id__26__2024-06-18_20-10.csv\n",
      "VHI is downloaded for province ID 27 into vhi_id__27__2024-06-18_20-10.csv\n",
      "The loading of test structural data was successful\n"
     ]
    }
   ],
   "source": [
    "for i in range(1, 28):\n",
    "    download_data(i)\n",
    "print(\"The loading of test structural data was successful\")"
   ]
  },
  {
   "cell_type": "markdown",
   "id": "78ce2e33449f2538",
   "metadata": {
    "collapsed": false
   },
   "source": [
    "#### Відповідність id регіону та його назви"
   ]
  },
  {
   "cell_type": "code",
   "execution_count": 12,
   "id": "b6dac60730b403b9",
   "metadata": {
    "collapsed": false
   },
   "outputs": [],
   "source": [
    "reg_id_name = {\n",
    "    1: \"Cherkasy\",\n",
    "    2: \"Chernihiv\",\n",
    "    3: \"Chernivtsi\",\n",
    "    4: \"Crimea\",\n",
    "    5: \"Dnipropetrovs'k\",\n",
    "    6: \"Donets'k\",\n",
    "    7: \"Ivano-Frankivs'k\",\n",
    "    8: \"Kharkiv\",\n",
    "    9: \"Kherson\",\n",
    "    10: \"Khmel'nyts'kyy\",\n",
    "    11: \"Kiev\",\n",
    "    12: \"Kiev City\",\n",
    "    13: \"Kirovohrad\",\n",
    "    14: \"Luhans'k\",\n",
    "    15: \"L'viv\",\n",
    "    16: \"Mykolayiv\",\n",
    "    17: \"Odessa\",\n",
    "    18: \"Poltava\",\n",
    "    19: \"Rivne\",\n",
    "    20: \"Sevastopol\",\n",
    "    21: \"Sumy\",\n",
    "    22: \"Ternopil'\",\n",
    "    23: \"Transcarpathia\",\n",
    "    24: \"Vinnytsya\",\n",
    "    25: \"Volyn\",\n",
    "    26: \"Zaporizhzhya\",\n",
    "    27: \"Zhytomyr\",\n",
    "}"
   ]
  },
  {
   "cell_type": "markdown",
   "id": "f17e39f4e79f1216",
   "metadata": {
    "collapsed": false
   },
   "source": [
    "#### Функція ощищення даних і створення загального DataFrame"
   ]
  },
  {
   "cell_type": "code",
   "execution_count": 13,
   "id": "a660f0102da58d0f",
   "metadata": {
    "collapsed": false
   },
   "outputs": [],
   "source": [
    "import glob\n",
    "import pandas as pd\n",
    "def create_data_frame(folder_path1):\n",
    "\n",
    "    csv_files = glob.glob(folder_path1 + \"/*.csv\")\n",
    "\n",
    "    headers = ['Year', 'Week', 'SMN', 'SMT', 'VCI', 'TCI', 'VHI', 'empty']\n",
    "    frames = []\n",
    "\n",
    "    for file in csv_files:\n",
    "        region_id1 = int(file.split('__')[1]) \n",
    "        df = pd.read_csv(file, header=1, names=headers)  \n",
    "        df.at[0, 'Year'] =  df.at[0, 'Year'][9:]\n",
    "        df=df.drop(df.index[-1])\n",
    "        df = df.drop(df.loc[df['VHI'] == -1].index)\n",
    "        df = df.drop('empty', axis=1)\n",
    "        df.insert(0, 'region_id', region_id1, True)\n",
    "        frames.append(df)\n",
    "        \n",
    "    result = pd.concat(frames).drop_duplicates().reset_index(drop=True)\n",
    "    df.to_csv('output.csv')\n",
    "    return result"
   ]
  },
  {
   "cell_type": "code",
   "execution_count": 16,
   "id": "140a2b817d6c29ff",
   "metadata": {
    "collapsed": false
   },
   "outputs": [
    {
     "name": "stdout",
     "output_type": "stream",
     "text": [
      "    region_id  Year  Week    SMN     SMT    VCI    TCI    VHI\n",
      "0          10  1982   1.0  0.059  258.24  51.11  48.78  49.95\n",
      "1          10  1982   2.0  0.063  261.53  55.89  38.20  47.04\n",
      "2          10  1982   3.0  0.063  263.45  57.30  32.69  44.99\n",
      "3          10  1982   4.0  0.061  265.10  53.96  28.62  41.29\n",
      "4          10  1982   5.0  0.058  266.42  46.87  28.57  37.72\n",
      "5          10  1982   6.0  0.056  267.47  39.55  30.27  34.91\n",
      "6          10  1982   7.0  0.055  268.58  35.19  31.10  33.14\n",
      "7          10  1982   8.0  0.057  270.15  33.35  32.09  32.72\n",
      "8          10  1982   9.0  0.057  271.60  30.82  34.71  32.77\n",
      "9          10  1982  10.0  0.057  273.10  27.66  36.79  32.23\n",
      "10         10  1982  11.0  0.063  275.28  26.28  34.48  30.38\n",
      "11         10  1982  12.0  0.074  277.68  25.86  36.39  31.12\n",
      "12         10  1982  13.0  0.085  279.65  22.76  40.53  31.65\n",
      "13         10  1982  14.0  0.098  281.32  18.26  46.96  32.61\n",
      "14         10  1982  15.0  0.107  282.33  11.26  59.73  35.49\n",
      "15         10  1982  16.0  0.129  284.00   9.15  69.23  39.19\n",
      "16         10  1982  17.0  0.161  286.23  10.63  71.64  41.14\n",
      "17         10  1982  18.0  0.203  288.95  15.19  63.82  39.50\n",
      "18         10  1982  19.0  0.252  291.41  20.85  53.29  37.07\n",
      "19         10  1982  20.0  0.299  292.91  25.37  50.39  37.88\n",
      "20         10  1982  21.0  0.337  293.36  27.36  54.62  40.99\n",
      "21         10  1982  22.0  0.365  293.44  27.70  59.02  43.36\n",
      "22         10  1982  23.0  0.382  293.20  25.81  64.80  45.31\n",
      "23         10  1982  24.0  0.387  293.07  23.20  69.39  46.30\n",
      "24         10  1982  25.0  0.391  293.01  24.85  72.85  48.85\n",
      "25         10  1982  26.0  0.393  292.94  26.26  75.50  50.88\n",
      "26         10  1982  27.0  0.395  293.20  29.30  74.36  51.83\n",
      "27         10  1982  28.0  0.394  293.59  32.87  70.50  51.68\n",
      "28         10  1982  29.0  0.398  294.27  41.28  61.94  51.61\n",
      "29         10  1982  30.0  0.396  294.91  46.61  53.26  49.93\n",
      "30         10  1982  31.0  0.388  295.31  44.70  47.31  46.00\n",
      "31         10  1982  32.0  0.377  295.37  41.61  45.51  43.56\n",
      "32         10  1982  33.0  0.370  295.42  40.74  41.66  41.20\n",
      "33         10  1982  34.0  0.364  295.57  42.81  34.03  38.42\n",
      "34         10  1982  35.0  0.356  295.18  48.36  30.07  39.22\n",
      "35         10  1982  36.0  0.341  294.46  51.96  26.29  39.13\n",
      "36         10  1982  37.0  0.319  293.44  50.58  23.92  37.25\n",
      "37         10  1982  38.0  0.296  291.84  47.70  25.06  36.38\n",
      "38         10  1982  39.0  0.270  289.87  43.68  28.31  35.99\n",
      "39         10  1982  40.0  0.241  287.77  37.99  31.74  34.87\n",
      "40         10  1982  41.0  0.213  286.01  33.20  26.73  29.96\n",
      "41         10  1982  42.0  0.190  284.41  32.70  23.62  28.16\n",
      "42         10  1982  43.0  0.165  282.63  32.42  22.36  27.39\n",
      "43         10  1982  44.0  0.143  280.65  32.85  17.25  25.05\n",
      "44         10  1982  45.0  0.116  278.11  29.59  18.01  23.80\n",
      "45         10  1982  46.0  0.094  275.77  27.12  18.52  22.82\n",
      "46         10  1982  47.0  0.078  273.40  28.51  20.32  24.41\n",
      "47         10  1982  48.0  0.066  270.63  29.19  25.49  27.34\n",
      "48         10  1982  49.0  0.057  268.48  29.21  27.86  28.53\n",
      "49         10  1982  50.0  0.050  266.59  27.74  28.01  27.87\n"
     ]
    }
   ],
   "source": [
    "result_df = create_data_frame('download')\n",
    "print(result_df.head(50))"
   ]
  },
  {
   "cell_type": "markdown",
   "id": "2a2c49b6391b63f3",
   "metadata": {
    "collapsed": false
   },
   "source": [
    "####  Ряд VHI для області за вказаний рік, пошук екстремумів (min та max);"
   ]
  },
  {
   "cell_type": "code",
   "execution_count": null,
   "id": "dd5e0c0aa69f5c91",
   "metadata": {
    "collapsed": false
   },
   "outputs": [],
   "source": [
    "def region_year_analysis(region_id, years=(\"1982\", \"2024\")):\n",
    "    result_df['Year'] = pd.to_numeric(result_df['Year'])\n",
    "\n",
    "    df2 = result_df[(result_df[\"Year\"].between(int(years[0]), int(years[1]))) & (result_df['region_id'] == region_id)]\n",
    "    region_name = reg_id_name[region_id]\n",
    "    vhi_max_reg = df2[\"VHI\"].max()\n",
    "    vhi_min_reg = df2[\"VHI\"].min()\n",
    "    print(f\"[+] {region_name}: min {vhi_min_reg} max {vhi_max_reg}\")\n",
    "    # print(df2.head())  # Для перегляду перших кількох рядків фільтрованого датафрейму"
   ]
  },
  {
   "cell_type": "code",
   "execution_count": null,
   "id": "52beb017180899d9",
   "metadata": {
    "collapsed": false
   },
   "outputs": [
    {
     "name": "stdout",
     "output_type": "stream",
     "text": [
      "[+] Cherkasy: min 10.68 max 83.7\n",
      "[+] Chernihiv: min 15.17 max 80.65\n",
      "[+] Chernivtsi: min 15.16 max 72.19\n",
      "[+] Crimea: min 13.28 max 90.96\n",
      "[+] Dnipropetrovs'k: min 17.58 max 93.17\n",
      "[+] Donets'k: min 6.26 max 96.18\n",
      "[+] Ivano-Frankivs'k: min 18.98 max 73.35\n",
      "[+] Kharkiv: min 9.36 max 91.42\n",
      "[+] Kherson: min 12.23 max 90.61\n",
      "[+] Khmel'nyts'kyy: min 18.41 max 79.4\n",
      "[+] Kiev: min 10.6 max 80.88\n",
      "[+] Kiev City: min 6.49 max 76.84\n",
      "[+] Kirovohrad: min 16.36 max 84.52\n",
      "[+] Luhans'k: min 12.45 max 90.32\n",
      "[+] L'viv: min 18.31 max 69.96\n",
      "[+] Mykolayiv: min 5.94 max 92.31\n",
      "[+] Odessa: min 5.52 max 89.14\n",
      "[+] Poltava: min 15.68 max 85.14\n",
      "[+] Rivne: min 20.7 max 77.45\n",
      "[+] Sevastopol: min 8.14 max 76.94\n",
      "[+] Sumy: min 16.37 max 79.84\n",
      "[+] Ternopil': min 20.63 max 77.71\n",
      "[+] Transcarpathia: min 18.0 max 72.59\n",
      "[+] Vinnytsya: min 11.25 max 82.64\n",
      "[+] Volyn: min 11.91 max 78.32\n",
      "[+] Zaporizhzhya: min 10.88 max 96.69\n",
      "[+] Zhytomyr: min 19.48 max 77.57\n"
     ]
    }
   ],
   "source": [
    "for i in range(1, 28):\n",
    "    region_year_analysis(region_id=i, years=(\"1985\", \"2010\"))"
   ]
  },
  {
   "cell_type": "markdown",
   "id": "b138a912eaa967eb",
   "metadata": {},
   "source": [
    "#### Роки, протягом яких екстремальні посухи торкнулися більше вказаного відсотка областей по Україні"
   ]
  },
  {
   "cell_type": "code",
   "execution_count": null,
   "id": "69b657bd77bb2338",
   "metadata": {
    "collapsed": false
   },
   "outputs": [],
   "source": [
    "def drought_years_analysis(df, years_range=(\"1981\", \"2024\"), threshold_extreme=15, threshold_moderate=(15, 35), percent_threshold=20):\n",
    "    extreme_drought_years = []\n",
    "    moderate_drought_years = []\n",
    "\n",
    "    total_regions = len(set(df['region_id']))\n",
    "    min_regions_affected = (percent_threshold / 100) * total_regions\n",
    "\n",
    "    for year in range(int(years_range[0]), int(years_range[1]) + 1):\n",
    "        yearly_data = df[df['Year'] == year]\n",
    "        extreme_drought_count = len(yearly_data[yearly_data['VHI'] < threshold_extreme])\n",
    "        moderate_drought_count = len(yearly_data[(yearly_data['VHI'] >= threshold_moderate[0]) & (yearly_data['VHI'] <= threshold_moderate[1])])\n",
    "\n",
    "        if extreme_drought_count >= min_regions_affected:\n",
    "            extreme_drought_years.append(year)\n",
    "        if moderate_drought_count >= min_regions_affected:\n",
    "            moderate_drought_years.append(year)\n",
    "\n",
    "    return extreme_drought_years, moderate_drought_years"
   ]
  },
  {
   "cell_type": "code",
   "execution_count": null,
   "id": "7c5210a777395a0e",
   "metadata": {
    "collapsed": false
   },
   "outputs": [],
   "source": [
    "selected_regions = [3, 5, 12]  \n",
    "selected_years = (\"2005\", \"2015\")\n",
    "# vhi_for_regions_and_years(selected_regions, selected_years)  "
   ]
  },
  {
   "cell_type": "code",
   "execution_count": null,
   "id": "44d151f040d75f4b",
   "metadata": {
    "collapsed": false
   },
   "outputs": [
    {
     "name": "stdout",
     "output_type": "stream",
     "text": [
      "Роки з екстремальними посухами: [2000, 2007]\n",
      "Роки з помірними посухами: [2000, 2001, 2002, 2003, 2004, 2005, 2006, 2007, 2008, 2009, 2010]\n"
     ]
    }
   ],
   "source": [
    "extreme_drought_years, moderate_drought_years = drought_years_analysis(result_df, years_range=(\"2000\", \"2010\"))\n",
    "print(\"Роки з екстремальними посухами:\", extreme_drought_years)\n",
    "print(\"Роки з помірними посухами:\", moderate_drought_years)"
   ]
  },
  {
   "cell_type": "code",
   "execution_count": null,
   "id": "c268b7e6eb722f3f",
   "metadata": {
    "collapsed": false
   },
   "outputs": [],
   "source": []
  }
 ],
 "metadata": {
  "kernelspec": {
   "display_name": "Python 3",
   "language": "python",
   "name": "python3"
  },
  "language_info": {
   "codemirror_mode": {
    "name": "ipython",
    "version": 3
   },
   "file_extension": ".py",
   "mimetype": "text/x-python",
   "name": "python",
   "nbconvert_exporter": "python",
   "pygments_lexer": "ipython3",
   "version": "3.11.0"
  }
 },
 "nbformat": 4,
 "nbformat_minor": 5
}
